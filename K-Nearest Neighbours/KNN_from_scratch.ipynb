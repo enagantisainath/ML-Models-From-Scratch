{
 "cells": [
  {
   "cell_type": "code",
   "execution_count": 3,
   "metadata": {},
   "outputs": [],
   "source": [
    "import numpy as np\n",
    "import matplotlib.pyplot as plt\n",
    "import seaborn as sns\n",
    "import pandas as pd\n",
    "from operator import itemgetter\n",
    "from statistics import mode\n",
    "\n",
    "from sklearn.neighbors import KNeighborsClassifier\n",
    "from sklearn.preprocessing import StandardScaler\n",
    "from sklearn.model_selection import train_test_split\n",
    "from sklearn.datasets import load_iris,load_breast_cancer"
   ]
  },
  {
   "cell_type": "code",
   "execution_count": 4,
   "metadata": {},
   "outputs": [],
   "source": [
    "class KNN:\n",
    "    \n",
    "    \"\"\"  Function to initialize the parameters required for the model. \"\"\"    \n",
    "    def __init__(self,k=3):\n",
    "        self.k=k \n",
    "        \n",
    "        \n",
    "    \"\"\"  Function to calculate the Euclidean distance between points in N-dimensional space.   \"\"\"\n",
    "    def get_distance(self,pt1,pt2):\n",
    "        res=0\n",
    "        for i in range(pt1.shape[0]):\n",
    "            res+=(pt1[i]-pt2[i])**2\n",
    "        return np.sqrt(res)\n",
    "    \n",
    "    \n",
    "    \"\"\"  Function to find the most suitable class/label for the given test item(record) \"\"\"\n",
    "    def getlabel(self,xt):        \n",
    "        distances = [(idx,self.get_distance(train[0],xt),train[1]) for idx,train in enumerate(self.traindata)]\n",
    "        distances.sort(key=itemgetter(1))\n",
    "        return mode(list(map(lambda x: x[2],distances[:self.k]))) \n",
    "\n",
    "    \"\"\"  Function for model fitting.\"\"\"\n",
    "    def fit(self,X,Y):\n",
    "        self.traindata = list(zip(X,Y))\n",
    "    \n",
    "    \"\"\"  Function for predictions\"\"\"\n",
    "    def predict(self,X):\n",
    "        return np.array([self.getlabel(x) for x in X])\n",
    "    \n",
    "    \"\"\"  Function : Generates Classification Report   \"\"\"\n",
    "    def classification_report(self,X,y):\n",
    "        p = self.predict(X) \n",
    "        \n",
    "        cm_df = pd.crosstab(p,y,rownames=['Predicted'],colnames=['Actual'])\n",
    "        print('\\nConfusion Matrix:\\n',cm_df)\n",
    "        \n",
    "        TN = cm_df.loc[0,0] # Predicted = 0 and  Actual = 0\n",
    "        TP = cm_df.loc[1,1] # Predicted = 1 and  Actual = 1\n",
    "        FN = cm_df.loc[0,1] # Predicted  = 0 But Actual = 1\n",
    "        FP = cm_df.loc[1,0] # Predicted  = 1 But Actual = 0\n",
    "\n",
    "        acc = (TP+TN)/(TP+TN+FP+FN)\n",
    "        tpr = recall = TP/(TP+FN) # Recall / Sensitivity / True Positive Rate\n",
    "        tnr = TN/(TN+FP) # Specificity / True Negative Rate\n",
    "        precision = TP/(TP+FP) # Precision\n",
    "        f1_score = 2*precision*recall/(precision+recall) # F1-Score\n",
    "\n",
    "        return pd.DataFrame({\n",
    "        'Accuracy':acc.round(3)*100,\n",
    "        'True Positive Rate':recall.round(3)*100,\n",
    "        'True Negative Rate':tnr.round(3)*100,\n",
    "        'Precision':precision.round(3)*100,\n",
    "        'F1_Score':f1_score.round(3)*100},index=['Perc']).T\n",
    "           \n",
    "    "
   ]
  },
  {
   "cell_type": "markdown",
   "metadata": {},
   "source": [
    "### Example 1 "
   ]
  },
  {
   "cell_type": "code",
   "execution_count": 5,
   "metadata": {},
   "outputs": [
    {
     "data": {
      "text/plain": [
       "<matplotlib.axes._subplots.AxesSubplot at 0x2604dfccc18>"
      ]
     },
     "execution_count": 5,
     "metadata": {},
     "output_type": "execute_result"
    },
    {
     "data": {
      "image/png": "[encoded data removed]",
      "text/plain": [
       "<Figure size 432x288 with 1 Axes>"
      ]
     },
     "metadata": {
      "needs_background": "light"
     },
     "output_type": "display_data"
    }
   ],
   "source": [
    "X = np.array(\n",
    "    [\n",
    "    [-1,2],[0,2],[-2,4],[4,1],\n",
    "    [1, 6],[4,5],[5,3],[2, 4],[6, 2]\n",
    "    ])\n",
    "\n",
    "Y = np.array([0,0,0,0,1,1,1,1,1])\n",
    "sns.scatterplot(X[:,0],X[:,1],hue=Y)"
   ]
  },
  {
   "cell_type": "code",
   "execution_count": 6,
   "metadata": {},
   "outputs": [
    {
     "name": "stdout",
     "output_type": "stream",
     "text": [
      "\n",
      "Confusion Matrix:\n",
      " Actual     0  1\n",
      "Predicted      \n",
      "0          3  0\n",
      "1          1  5\n"
     ]
    },
    {
     "data": {
      "text/html": [
       "<div>\n",
       "<style scoped>\n",
       "    .dataframe tbody tr th:only-of-type {\n",
       "        vertical-align: middle;\n",
       "    }\n",
       "\n",
       "    .dataframe tbody tr th {\n",
       "        vertical-align: top;\n",
       "    }\n",
       "\n",
       "    .dataframe thead th {\n",
       "        text-align: right;\n",
       "    }\n",
       "</style>\n",
       "<table border=\"1\" class=\"dataframe\">\n",
       "  <thead>\n",
       "    <tr style=\"text-align: right;\">\n",
       "      <th></th>\n",
       "      <th>Perc</th>\n",
       "    </tr>\n",
       "  </thead>\n",
       "  <tbody>\n",
       "    <tr>\n",
       "      <th>Accuracy</th>\n",
       "      <td>88.9</td>\n",
       "    </tr>\n",
       "    <tr>\n",
       "      <th>True Positive Rate</th>\n",
       "      <td>100.0</td>\n",
       "    </tr>\n",
       "    <tr>\n",
       "      <th>True Negative Rate</th>\n",
       "      <td>75.0</td>\n",
       "    </tr>\n",
       "    <tr>\n",
       "      <th>Precision</th>\n",
       "      <td>83.3</td>\n",
       "    </tr>\n",
       "    <tr>\n",
       "      <th>F1_Score</th>\n",
       "      <td>90.9</td>\n",
       "    </tr>\n",
       "  </tbody>\n",
       "</table>\n",
       "</div>"
      ],
      "text/plain": [
       "                     Perc\n",
       "Accuracy             88.9\n",
       "True Positive Rate  100.0\n",
       "True Negative Rate   75.0\n",
       "Precision            83.3\n",
       "F1_Score             90.9"
      ]
     },
     "execution_count": 6,
     "metadata": {},
     "output_type": "execute_result"
    }
   ],
   "source": [
    "model  = KNN(k=3)\n",
    "model.fit(X,Y)\n",
    "model.classification_report(X,Y)"
   ]
  },
  {
   "cell_type": "code",
   "execution_count": 7,
   "metadata": {},
   "outputs": [
    {
     "name": "stdout",
     "output_type": "stream",
     "text": [
      "Sklearn - KNN Accuracy:  88.9 %\n"
     ]
    }
   ],
   "source": [
    "knn = KNeighborsClassifier(n_neighbors=3)\n",
    "knn.fit(X, Y)\n",
    "pp = knn.predict(X)\n",
    "print('Sklearn - KNN Accuracy: ',round((pp==Y).mean(),3)*100,'%') "
   ]
  },
  {
   "cell_type": "markdown",
   "metadata": {},
   "source": [
    "### Example 2"
   ]
  },
  {
   "cell_type": "code",
   "execution_count": 8,
   "metadata": {},
   "outputs": [
    {
     "data": {
      "text/plain": [
       "<matplotlib.axes._subplots.AxesSubplot at 0x26050162f98>"
      ]
     },
     "execution_count": 8,
     "metadata": {},
     "output_type": "execute_result"
    },
    {
     "data": {
      "image/png": "[encoded data removed]",
      "text/plain": [
       "<Figure size 432x288 with 1 Axes>"
      ]
     },
     "metadata": {
      "needs_background": "light"
     },
     "output_type": "display_data"
    }
   ],
   "source": [
    "iris = load_iris()\n",
    "X = iris.data[:,:2]\n",
    "Y = (iris.target!=0)*1\n",
    "sns.scatterplot(X[:,0],X[:,1],hue=Y)"
   ]
  },
  {
   "cell_type": "code",
   "execution_count": 9,
   "metadata": {},
   "outputs": [
    {
     "name": "stdout",
     "output_type": "stream",
     "text": [
      "\n",
      "Confusion Matrix:\n",
      " Actual      0    1\n",
      "Predicted         \n",
      "0          49    0\n",
      "1           1  100\n"
     ]
    },
    {
     "data": {
      "text/html": [
       "<div>\n",
       "<style scoped>\n",
       "    .dataframe tbody tr th:only-of-type {\n",
       "        vertical-align: middle;\n",
       "    }\n",
       "\n",
       "    .dataframe tbody tr th {\n",
       "        vertical-align: top;\n",
       "    }\n",
       "\n",
       "    .dataframe thead th {\n",
       "        text-align: right;\n",
       "    }\n",
       "</style>\n",
       "<table border=\"1\" class=\"dataframe\">\n",
       "  <thead>\n",
       "    <tr style=\"text-align: right;\">\n",
       "      <th></th>\n",
       "      <th>Perc</th>\n",
       "    </tr>\n",
       "  </thead>\n",
       "  <tbody>\n",
       "    <tr>\n",
       "      <th>Accuracy</th>\n",
       "      <td>99.3</td>\n",
       "    </tr>\n",
       "    <tr>\n",
       "      <th>True Positive Rate</th>\n",
       "      <td>100.0</td>\n",
       "    </tr>\n",
       "    <tr>\n",
       "      <th>True Negative Rate</th>\n",
       "      <td>98.0</td>\n",
       "    </tr>\n",
       "    <tr>\n",
       "      <th>Precision</th>\n",
       "      <td>99.0</td>\n",
       "    </tr>\n",
       "    <tr>\n",
       "      <th>F1_Score</th>\n",
       "      <td>99.5</td>\n",
       "    </tr>\n",
       "  </tbody>\n",
       "</table>\n",
       "</div>"
      ],
      "text/plain": [
       "                     Perc\n",
       "Accuracy             99.3\n",
       "True Positive Rate  100.0\n",
       "True Negative Rate   98.0\n",
       "Precision            99.0\n",
       "F1_Score             99.5"
      ]
     },
     "execution_count": 9,
     "metadata": {},
     "output_type": "execute_result"
    }
   ],
   "source": [
    "model  = KNN(k=3)\n",
    "model.fit(X,Y)\n",
    "model.classification_report(X,Y)"
   ]
  },
  {
   "cell_type": "code",
   "execution_count": 10,
   "metadata": {},
   "outputs": [
    {
     "name": "stdout",
     "output_type": "stream",
     "text": [
      "Sklearn - KNN Accuracy:  99.3 %\n"
     ]
    }
   ],
   "source": [
    "knn = KNeighborsClassifier(n_neighbors=3)\n",
    "knn.fit(X, Y)\n",
    "pp = knn.predict(X)\n",
    "print('Sklearn - KNN Accuracy: ',round((pp==Y).mean(),3)*100,'%') "
   ]
  },
  {
   "cell_type": "markdown",
   "metadata": {},
   "source": [
    "### Example 3   :"
   ]
  },
  {
   "cell_type": "code",
   "execution_count": 11,
   "metadata": {},
   "outputs": [
    {
     "data": {
      "text/plain": [
       "<matplotlib.axes._subplots.AxesSubplot at 0x26050152e80>"
      ]
     },
     "execution_count": 11,
     "metadata": {},
     "output_type": "execute_result"
    },
    {
     "data": {
      "image/png": "[encoded data removed]",
      "text/plain": [
       "<Figure size 432x288 with 1 Axes>"
      ]
     },
     "metadata": {
      "needs_background": "light"
     },
     "output_type": "display_data"
    }
   ],
   "source": [
    "iris = load_iris()\n",
    "X = iris.data\n",
    "Y = iris.target\n",
    "sns.scatterplot(X[:,0],X[:,1],hue=Y,palette=['green','red','blue'])"
   ]
  },
  {
   "cell_type": "code",
   "execution_count": 12,
   "metadata": {},
   "outputs": [
    {
     "name": "stdout",
     "output_type": "stream",
     "text": [
      "Accuracy: 96.0 %\n"
     ]
    }
   ],
   "source": [
    "model  = KNN(k=3)\n",
    "model.fit(X,Y)\n",
    "# model.classification_report(X,Y)\n",
    "P = model.predict(X)\n",
    "print('Accuracy:',round((P==Y).mean(),3)*100,'%')"
   ]
  },
  {
   "cell_type": "code",
   "execution_count": 13,
   "metadata": {},
   "outputs": [
    {
     "name": "stdout",
     "output_type": "stream",
     "text": [
      "Sklearn - KNN Accuracy:  96.0 %\n"
     ]
    }
   ],
   "source": [
    "knn = KNeighborsClassifier(n_neighbors=3)\n",
    "knn.fit(X, Y)\n",
    "pp = knn.predict(X)\n",
    "print('Sklearn - KNN Accuracy: ',round((pp==Y).mean(),3)*100,'%') "
   ]
  },
  {
   "cell_type": "markdown",
   "metadata": {},
   "source": [
    "### Example 4"
   ]
  },
  {
   "cell_type": "code",
   "execution_count": 14,
   "metadata": {},
   "outputs": [
    {
     "data": {
      "text/plain": [
       "<matplotlib.axes._subplots.AxesSubplot at 0x26050249860>"
      ]
     },
     "execution_count": 14,
     "metadata": {},
     "output_type": "execute_result"
    },
    {
     "data": {
      "image/png": "[encoded data removed]",
      "text/plain": [
       "<Figure size 432x288 with 1 Axes>"
      ]
     },
     "metadata": {
      "needs_background": "light"
     },
     "output_type": "display_data"
    }
   ],
   "source": [
    "data = load_breast_cancer()\n",
    "X = StandardScaler().fit_transform(data.data)\n",
    "Y = data.target\n",
    "\n",
    "sns.scatterplot(X[:,0],X[:,1],hue=Y)"
   ]
  },
  {
   "cell_type": "code",
   "execution_count": 15,
   "metadata": {},
   "outputs": [
    {
     "name": "stdout",
     "output_type": "stream",
     "text": [
      "\n",
      "Confusion Matrix:\n",
      " Actual       0    1\n",
      "Predicted          \n",
      "0          202    1\n",
      "1           10  356\n"
     ]
    },
    {
     "data": {
      "text/html": [
       "<div>\n",
       "<style scoped>\n",
       "    .dataframe tbody tr th:only-of-type {\n",
       "        vertical-align: middle;\n",
       "    }\n",
       "\n",
       "    .dataframe tbody tr th {\n",
       "        vertical-align: top;\n",
       "    }\n",
       "\n",
       "    .dataframe thead th {\n",
       "        text-align: right;\n",
       "    }\n",
       "</style>\n",
       "<table border=\"1\" class=\"dataframe\">\n",
       "  <thead>\n",
       "    <tr style=\"text-align: right;\">\n",
       "      <th></th>\n",
       "      <th>Perc</th>\n",
       "    </tr>\n",
       "  </thead>\n",
       "  <tbody>\n",
       "    <tr>\n",
       "      <th>Accuracy</th>\n",
       "      <td>98.1</td>\n",
       "    </tr>\n",
       "    <tr>\n",
       "      <th>True Positive Rate</th>\n",
       "      <td>99.7</td>\n",
       "    </tr>\n",
       "    <tr>\n",
       "      <th>True Negative Rate</th>\n",
       "      <td>95.3</td>\n",
       "    </tr>\n",
       "    <tr>\n",
       "      <th>Precision</th>\n",
       "      <td>97.3</td>\n",
       "    </tr>\n",
       "    <tr>\n",
       "      <th>F1_Score</th>\n",
       "      <td>98.5</td>\n",
       "    </tr>\n",
       "  </tbody>\n",
       "</table>\n",
       "</div>"
      ],
      "text/plain": [
       "                    Perc\n",
       "Accuracy            98.1\n",
       "True Positive Rate  99.7\n",
       "True Negative Rate  95.3\n",
       "Precision           97.3\n",
       "F1_Score            98.5"
      ]
     },
     "execution_count": 15,
     "metadata": {},
     "output_type": "execute_result"
    }
   ],
   "source": [
    "model  = KNN(k=3)\n",
    "model.fit(X,Y)\n",
    "model.classification_report(X,Y)"
   ]
  },
  {
   "cell_type": "code",
   "execution_count": 16,
   "metadata": {},
   "outputs": [
    {
     "name": "stdout",
     "output_type": "stream",
     "text": [
      "Sklearn - KNN Accuracy:  98.1 %\n"
     ]
    }
   ],
   "source": [
    "knn = KNeighborsClassifier(n_neighbors=3)\n",
    "knn.fit(X, Y)\n",
    "pp = knn.predict(X)\n",
    "print('Sklearn - KNN Accuracy: ',round((pp==Y).mean(),3)*100,'%') "
   ]
  },
  {
   "cell_type": "markdown",
   "metadata": {},
   "source": [
    "##### EX4 - USING TRAIN - TEST SPLIT"
   ]
  },
  {
   "cell_type": "code",
   "execution_count": 17,
   "metadata": {},
   "outputs": [
    {
     "name": "stdout",
     "output_type": "stream",
     "text": [
      "\n",
      "Confusion Matrix:\n",
      " Actual      0   1\n",
      "Predicted        \n",
      "0          50   1\n",
      "1           4  88\n"
     ]
    },
    {
     "data": {
      "text/html": [
       "<div>\n",
       "<style scoped>\n",
       "    .dataframe tbody tr th:only-of-type {\n",
       "        vertical-align: middle;\n",
       "    }\n",
       "\n",
       "    .dataframe tbody tr th {\n",
       "        vertical-align: top;\n",
       "    }\n",
       "\n",
       "    .dataframe thead th {\n",
       "        text-align: right;\n",
       "    }\n",
       "</style>\n",
       "<table border=\"1\" class=\"dataframe\">\n",
       "  <thead>\n",
       "    <tr style=\"text-align: right;\">\n",
       "      <th></th>\n",
       "      <th>Perc</th>\n",
       "    </tr>\n",
       "  </thead>\n",
       "  <tbody>\n",
       "    <tr>\n",
       "      <th>Accuracy</th>\n",
       "      <td>96.5</td>\n",
       "    </tr>\n",
       "    <tr>\n",
       "      <th>True Positive Rate</th>\n",
       "      <td>98.9</td>\n",
       "    </tr>\n",
       "    <tr>\n",
       "      <th>True Negative Rate</th>\n",
       "      <td>92.6</td>\n",
       "    </tr>\n",
       "    <tr>\n",
       "      <th>Precision</th>\n",
       "      <td>95.7</td>\n",
       "    </tr>\n",
       "    <tr>\n",
       "      <th>F1_Score</th>\n",
       "      <td>97.2</td>\n",
       "    </tr>\n",
       "  </tbody>\n",
       "</table>\n",
       "</div>"
      ],
      "text/plain": [
       "                    Perc\n",
       "Accuracy            96.5\n",
       "True Positive Rate  98.9\n",
       "True Negative Rate  92.6\n",
       "Precision           95.7\n",
       "F1_Score            97.2"
      ]
     },
     "execution_count": 17,
     "metadata": {},
     "output_type": "execute_result"
    }
   ],
   "source": [
    "X_train,X_test,Y_train,Y_test = train_test_split(X,Y,test_size=0.25)\n",
    "\n",
    "model  = KNN(k=5)\n",
    "model.fit(X_train,Y_train)\n",
    "model.classification_report(X_test,Y_test)"
   ]
  },
  {
   "cell_type": "code",
   "execution_count": 18,
   "metadata": {},
   "outputs": [
    {
     "name": "stdout",
     "output_type": "stream",
     "text": [
      "Sklearn - KNN Accuracy:  96.5 %\n"
     ]
    }
   ],
   "source": [
    "knn = KNeighborsClassifier(n_neighbors=5)\n",
    "knn.fit(X_train, Y_train)\n",
    "pp = knn.predict(X_test)\n",
    "print('Sklearn - KNN Accuracy: ',round((pp==Y_test).mean(),3)*100,'%') "
   ]
  },
  {
   "cell_type": "markdown",
   "metadata": {},
   "source": [
    "## NOTES:"
   ]
  },
  {
   "cell_type": "markdown",
   "metadata": {},
   "source": [
    "1. To find nearest points(neighbours) i have used euclidean distance method. Various other methods are possible such as Manhattan(City Block), Mahalanobis, Cosine, Minkowski distance methods.<br>\n",
    "2. This is a simple k-Nearest Neighbours method, where all the distances are given equal priority(weights). There is another possibility in kNN , i.e., Weighted kNN. ( Shall implement it later).<br>\n",
    "3. I have implemented only classification model. We can implement for regression problems too. Only difference is instead of majority voting we have to use Mean/Median methods for k-nearest neighbours."
   ]
  },
  {
   "cell_type": "code",
   "execution_count": null,
   "metadata": {},
   "outputs": [],
   "source": []
  }
 ],
 "metadata": {
  "kernelspec": {
   "display_name": "Python 3",
   "language": "python",
   "name": "python3"
  },
  "language_info": {
   "codemirror_mode": {
    "name": "ipython",
    "version": 3
   },
   "file_extension": ".py",
   "mimetype": "text/x-python",
   "name": "python",
   "nbconvert_exporter": "python",
   "pygments_lexer": "ipython3",
   "version": "3.7.3"
  }
 },
 "nbformat": 4,
 "nbformat_minor": 2
}
