{
 "cells": [
  {
   "cell_type": "code",
   "execution_count": 1,
   "metadata": {},
   "outputs": [],
   "source": [
    "import numpy as np\n",
    "import pandas as pd\n",
    "\n",
    "import matplotlib.pyplot as plt\n",
    "import seaborn as sns \n",
    "\n",
    "from sklearn.datasets import load_iris # dataset-eg-3\n",
    "from sklearn.svm import SVC # for results comparision"
   ]
  },
  {
   "cell_type": "markdown",
   "metadata": {},
   "source": [
    "# Support Vector Machines"
   ]
  },
  {
   "cell_type": "code",
   "execution_count": 2,
   "metadata": {},
   "outputs": [],
   "source": [
    "class Support_Vector_Classifier:    \n",
    "    \n",
    "    '''\n",
    "        Initialize the class variables\n",
    "    '''\n",
    "    def __init__(self,num_iters=1000,learning_rate=0.01,verbose=False):\n",
    "        self.num_iters = num_iters\n",
    "        self.verbose   = verbose\n",
    "        self.learning_rate = learning_rate\n",
    "        self.op_format = [0,1]\n",
    "                \n",
    "    '''\n",
    "        Function:        \n",
    "        Hinge loss function : (1-y*f(x))+   where f(x) = wx +b\n",
    "                                                           \n",
    "    '''\n",
    "    def cost(self,x,y):  \n",
    "        return np.sum(1-y.reshape(x.shape[0],1)*np.dot(x,self.theta))#1 / 2 * np.dot(self.theta.T,self.theta)[0][0] +\n",
    "   \n",
    "    '''\n",
    "       Function : Uses Gradient descent to find best/optimal weights\n",
    "    '''\n",
    "    def fit(self,x,y):\n",
    "        \n",
    "        # Assign (-1 and 1) class labels.\n",
    "        self.op_format = list(np.unique(Y))\n",
    "        y = np.where(y==0,-1,1)\n",
    "        \n",
    "        # Add Intercept\n",
    "        m = x.shape[0]\n",
    "        x = np.concatenate((np.ones((m, 1)), x), axis=1)\n",
    "        \n",
    "        # Initialize Weights\n",
    "        self.theta = np.zeros((x.shape[1]))\n",
    "\n",
    "        # Apply Stochastic Gradient Descent (SGD) to find optimal weights and minimal cost\n",
    "        for i in range(1,self.num_iters):\n",
    "            for j in range(m):\n",
    "                if (y[j]*np.dot(x[j], self.theta)) < 1:\n",
    "                    self.theta += self.learning_rate * (x[j]*y[j] + (-2*(1/i)*self.theta))\n",
    "                else:\n",
    "                    self.theta += self.learning_rate * (-2*(1/i)*self.theta)\n",
    "            if self.verbose and i%(self.num_iters/10)==0:\n",
    "                #self.cost_theta_list([i,self.cost(x,y)])\n",
    "                print('Cost at ',i,'iteration',self.cost(x,y.reshape(-1,1)))\n",
    "    \n",
    "    '''\n",
    "        Function : Predicts the output\n",
    "    '''\n",
    "    def predict(self,x,fit_intercept=True):\n",
    "        if fit_intercept:\n",
    "            m = x.shape[0]\n",
    "            x = np.concatenate((np.ones((m, 1)), x), axis=1)\n",
    "        if self.op_format==[0,1]:\n",
    "            return np.where(np.dot(x,self.theta)<0,0,1)\n",
    "        else:\n",
    "            return np.where(np.dot(x,self.theta)<0,-1,1)\n",
    "\n",
    "    '''\n",
    "        Function : Generates Classification Report\n",
    "    '''\n",
    "    def classification_report(self,X,y):\n",
    "        p = self.predict(X) \n",
    "        \n",
    "        cm_df = pd.crosstab(p,y,rownames=['Predicted'],colnames=['Actual'])\n",
    "        print('\\nConfusion Matrix:\\n',cm_df)\n",
    "        \n",
    "        TN = cm_df.loc[0,0] # Predicted = 0 and  Actual = 0\n",
    "        TP = cm_df.loc[1,1] # Predicted = 1 and  Actual = 1\n",
    "        FN = cm_df.loc[0,1] # Predicted  = 0 But Actual = 1\n",
    "        FP = cm_df.loc[1,0] # Predicted  = 1 But Actual = 0\n",
    "\n",
    "        acc = (TP+TN)/(TP+TN+FP+FN)\n",
    "        tpr = recall = TP/(TP+FN) # Recall / Sensitivity / True Positive Rate\n",
    "        tnr = TN/(TN+FP) # Specificity / True Negative Rate\n",
    "        precision = TP/(TP+FP) # Precision\n",
    "        f1_score = 2*precision*recall/(precision+recall) # F1-Score\n",
    "\n",
    "        return pd.DataFrame({\n",
    "        'Accuracy':acc.round(3)*100,\n",
    "        'True Positive Rate':recall.round(3)*100,\n",
    "        'True Negative Rate':tnr.round(3)*100,\n",
    "        'Precision':precision.round(3)*100,\n",
    "        'F1_Score':f1_score.round(3)*100},index=['Perc']).T\n",
    "    \n",
    "    '''\n",
    "        Function: Display the Decision Boundary / Hyperplane(in this case , a line)\n",
    "    '''    \n",
    "    def plot_decision_boundary(self,x,y):\n",
    "        b,w = self.theta[:1],self.theta[1:]\n",
    "        \n",
    "        # get the separating hyperplane\n",
    "        a = -w[0] / w[1]\n",
    "        xx = np.linspace(min(x[:,0])-1,max(x[:,0])+1)\n",
    "        yy = a * xx - b/ w[1]\n",
    "\n",
    "        # compute margin and boundaries\n",
    "        margin = 1 / np.sqrt(np.sum(w ** 2))\n",
    "        yy_down = yy - np.sqrt(1 + a ** 2) * margin\n",
    "        yy_up = yy + np.sqrt(1 + a ** 2) * margin\n",
    "        \n",
    "        # plot\n",
    "        plt.scatter(x[:, 0], x[:, 1], c=y, zorder=10,edgecolors='w')\n",
    "        plt.plot(xx, yy, 'k-', label = 'Decision boundary')\n",
    "        plt.plot(xx, yy_down, 'k--')\n",
    "        plt.plot(xx, yy_up, 'k--')\n",
    "        plt.legend(loc='best')\n",
    "        plt.show()\n",
    "    \n",
    "            "
   ]
  },
  {
   "cell_type": "markdown",
   "metadata": {},
   "source": [
    "### Example-1: Linear Seperable"
   ]
  },
  {
   "cell_type": "code",
   "execution_count": 3,
   "metadata": {},
   "outputs": [
    {
     "data": {
      "text/plain": [
       "<matplotlib.axes._subplots.AxesSubplot at 0x1c8553f7c50>"
      ]
     },
     "execution_count": 3,
     "metadata": {},
     "output_type": "execute_result"
    },
    {
     "data": {
      "image/png": "[encoded data removed]",
      "text/plain": [
       "<Figure size 432x288 with 1 Axes>"
      ]
     },
     "metadata": {
      "needs_background": "light"
     },
     "output_type": "display_data"
    }
   ],
   "source": [
    "X = np.array([[1, 5],[ 2,  8],[ 3,  7],[ 2.4,  5],\n",
    "       [ 5.4,  1.4],[ 6.2,  3.4],[ 3.5,  1],\n",
    "       [ 6, -1],\n",
    "       [ 7,  3]])\n",
    "\n",
    "Y = np.array([0,0,0,0, 1, 1, 1,1,1])\n",
    "sns.scatterplot(X[:,0],X[:,1],hue=Y)"
   ]
  },
  {
   "cell_type": "code",
   "execution_count": 4,
   "metadata": {},
   "outputs": [
    {
     "name": "stdout",
     "output_type": "stream",
     "text": [
      "\n",
      "Confusion Matrix:\n",
      " Actual     0  1\n",
      "Predicted      \n",
      "0          4  0\n",
      "1          0  5\n"
     ]
    },
    {
     "data": {
      "text/html": [
       "<div>\n",
       "<style scoped>\n",
       "    .dataframe tbody tr th:only-of-type {\n",
       "        vertical-align: middle;\n",
       "    }\n",
       "\n",
       "    .dataframe tbody tr th {\n",
       "        vertical-align: top;\n",
       "    }\n",
       "\n",
       "    .dataframe thead th {\n",
       "        text-align: right;\n",
       "    }\n",
       "</style>\n",
       "<table border=\"1\" class=\"dataframe\">\n",
       "  <thead>\n",
       "    <tr style=\"text-align: right;\">\n",
       "      <th></th>\n",
       "      <th>Perc</th>\n",
       "    </tr>\n",
       "  </thead>\n",
       "  <tbody>\n",
       "    <tr>\n",
       "      <th>Accuracy</th>\n",
       "      <td>100.0</td>\n",
       "    </tr>\n",
       "    <tr>\n",
       "      <th>True Positive Rate</th>\n",
       "      <td>100.0</td>\n",
       "    </tr>\n",
       "    <tr>\n",
       "      <th>True Negative Rate</th>\n",
       "      <td>100.0</td>\n",
       "    </tr>\n",
       "    <tr>\n",
       "      <th>Precision</th>\n",
       "      <td>100.0</td>\n",
       "    </tr>\n",
       "    <tr>\n",
       "      <th>F1_Score</th>\n",
       "      <td>100.0</td>\n",
       "    </tr>\n",
       "  </tbody>\n",
       "</table>\n",
       "</div>"
      ],
      "text/plain": [
       "                     Perc\n",
       "Accuracy            100.0\n",
       "True Positive Rate  100.0\n",
       "True Negative Rate  100.0\n",
       "Precision           100.0\n",
       "F1_Score            100.0"
      ]
     },
     "execution_count": 4,
     "metadata": {},
     "output_type": "execute_result"
    }
   ],
   "source": [
    "model = Support_Vector_Classifier(num_iters=1000,learning_rate=0.01)\n",
    "model.fit(X,Y)\n",
    "pred = model.predict(X)\n",
    "model.classification_report(X,Y)"
   ]
  },
  {
   "cell_type": "code",
   "execution_count": 5,
   "metadata": {},
   "outputs": [
    {
     "data": {
      "image/png": "[encoded data removed]",
      "text/plain": [
       "<Figure size 432x288 with 1 Axes>"
      ]
     },
     "metadata": {
      "needs_background": "light"
     },
     "output_type": "display_data"
    }
   ],
   "source": [
    "model.plot_decision_boundary(X,Y)"
   ]
  },
  {
   "cell_type": "code",
   "execution_count": 6,
   "metadata": {},
   "outputs": [
    {
     "name": "stdout",
     "output_type": "stream",
     "text": [
      "svm.SVC Accuracy:  100.0 %\n"
     ]
    }
   ],
   "source": [
    "clf = SVC(kernel='linear', C=1.0,gamma='auto')\n",
    "clf.fit(X, Y)\n",
    "pp = clf.predict(X)\n",
    "print('svm.SVC Accuracy: ',round((pp==Y).mean(),3)*100,'%') "
   ]
  },
  {
   "cell_type": "markdown",
   "metadata": {},
   "source": [
    "### Example-2: Linear Seperable"
   ]
  },
  {
   "cell_type": "code",
   "execution_count": 7,
   "metadata": {},
   "outputs": [
    {
     "data": {
      "text/plain": [
       "<matplotlib.axes._subplots.AxesSubplot at 0x1c85761b978>"
      ]
     },
     "execution_count": 7,
     "metadata": {},
     "output_type": "execute_result"
    },
    {
     "data": {
      "image/png": "[encoded data removed]",
      "text/plain": [
       "<Figure size 432x288 with 1 Axes>"
      ]
     },
     "metadata": {
      "needs_background": "light"
     },
     "output_type": "display_data"
    }
   ],
   "source": [
    "X = np.array(\n",
    "    [\n",
    "    [-1,2],[0,2],[-2,4],[4,1],\n",
    "    [1, 6],[4,5],[5,3],[2, 4],[6, 2]\n",
    "    ])\n",
    "\n",
    "Y = np.array([0,0,0,0,1,1,1,1,1])\n",
    "sns.scatterplot(X[:,0],X[:,1],hue=Y)"
   ]
  },
  {
   "cell_type": "code",
   "execution_count": 8,
   "metadata": {},
   "outputs": [
    {
     "name": "stdout",
     "output_type": "stream",
     "text": [
      "\n",
      "Confusion Matrix:\n",
      " Actual     0  1\n",
      "Predicted      \n",
      "0          4  0\n",
      "1          0  5\n"
     ]
    },
    {
     "data": {
      "text/html": [
       "<div>\n",
       "<style scoped>\n",
       "    .dataframe tbody tr th:only-of-type {\n",
       "        vertical-align: middle;\n",
       "    }\n",
       "\n",
       "    .dataframe tbody tr th {\n",
       "        vertical-align: top;\n",
       "    }\n",
       "\n",
       "    .dataframe thead th {\n",
       "        text-align: right;\n",
       "    }\n",
       "</style>\n",
       "<table border=\"1\" class=\"dataframe\">\n",
       "  <thead>\n",
       "    <tr style=\"text-align: right;\">\n",
       "      <th></th>\n",
       "      <th>Perc</th>\n",
       "    </tr>\n",
       "  </thead>\n",
       "  <tbody>\n",
       "    <tr>\n",
       "      <th>Accuracy</th>\n",
       "      <td>100.0</td>\n",
       "    </tr>\n",
       "    <tr>\n",
       "      <th>True Positive Rate</th>\n",
       "      <td>100.0</td>\n",
       "    </tr>\n",
       "    <tr>\n",
       "      <th>True Negative Rate</th>\n",
       "      <td>100.0</td>\n",
       "    </tr>\n",
       "    <tr>\n",
       "      <th>Precision</th>\n",
       "      <td>100.0</td>\n",
       "    </tr>\n",
       "    <tr>\n",
       "      <th>F1_Score</th>\n",
       "      <td>100.0</td>\n",
       "    </tr>\n",
       "  </tbody>\n",
       "</table>\n",
       "</div>"
      ],
      "text/plain": [
       "                     Perc\n",
       "Accuracy            100.0\n",
       "True Positive Rate  100.0\n",
       "True Negative Rate  100.0\n",
       "Precision           100.0\n",
       "F1_Score            100.0"
      ]
     },
     "execution_count": 8,
     "metadata": {},
     "output_type": "execute_result"
    }
   ],
   "source": [
    "model = Support_Vector_Classifier(num_iters=1000,learning_rate=0.01)\n",
    "model.fit(X,Y)\n",
    "pred = model.predict(X)\n",
    "model.classification_report(X,Y)"
   ]
  },
  {
   "cell_type": "code",
   "execution_count": 9,
   "metadata": {},
   "outputs": [
    {
     "data": {
      "image/png": "[encoded data removed]",
      "text/plain": [
       "<Figure size 432x288 with 1 Axes>"
      ]
     },
     "metadata": {
      "needs_background": "light"
     },
     "output_type": "display_data"
    }
   ],
   "source": [
    "model.plot_decision_boundary(X,Y)"
   ]
  },
  {
   "cell_type": "code",
   "execution_count": 10,
   "metadata": {},
   "outputs": [
    {
     "name": "stdout",
     "output_type": "stream",
     "text": [
      "svm.SVC Accuracy:  100.0 %\n"
     ]
    }
   ],
   "source": [
    "clf = SVC(kernel='linear', C=1.0,gamma='auto')\n",
    "clf.fit(X, Y)\n",
    "pp = clf.predict(X)\n",
    "print('svm.SVC Accuracy: ',round((pp==Y).mean(),3)*100,'%') "
   ]
  },
  {
   "cell_type": "markdown",
   "metadata": {},
   "source": [
    "### Example-3: Linear Non-Seperable"
   ]
  },
  {
   "cell_type": "code",
   "execution_count": 11,
   "metadata": {},
   "outputs": [],
   "source": [
    "iris = load_iris()\n",
    "X = iris.data[:,:2]\n",
    "Y = (iris.target!=0)*1"
   ]
  },
  {
   "cell_type": "code",
   "execution_count": 12,
   "metadata": {},
   "outputs": [],
   "source": [
    "model = Support_Vector_Classifier(learning_rate=0.001)\n",
    "model.fit(X,Y)\n",
    "pred = model.predict(X)"
   ]
  },
  {
   "cell_type": "code",
   "execution_count": 13,
   "metadata": {},
   "outputs": [
    {
     "name": "stdout",
     "output_type": "stream",
     "text": [
      "\n",
      "Confusion Matrix:\n",
      " Actual      0    1\n",
      "Predicted         \n",
      "0          49    0\n",
      "1           1  100\n"
     ]
    },
    {
     "data": {
      "text/html": [
       "<div>\n",
       "<style scoped>\n",
       "    .dataframe tbody tr th:only-of-type {\n",
       "        vertical-align: middle;\n",
       "    }\n",
       "\n",
       "    .dataframe tbody tr th {\n",
       "        vertical-align: top;\n",
       "    }\n",
       "\n",
       "    .dataframe thead th {\n",
       "        text-align: right;\n",
       "    }\n",
       "</style>\n",
       "<table border=\"1\" class=\"dataframe\">\n",
       "  <thead>\n",
       "    <tr style=\"text-align: right;\">\n",
       "      <th></th>\n",
       "      <th>Perc</th>\n",
       "    </tr>\n",
       "  </thead>\n",
       "  <tbody>\n",
       "    <tr>\n",
       "      <th>Accuracy</th>\n",
       "      <td>99.3</td>\n",
       "    </tr>\n",
       "    <tr>\n",
       "      <th>True Positive Rate</th>\n",
       "      <td>100.0</td>\n",
       "    </tr>\n",
       "    <tr>\n",
       "      <th>True Negative Rate</th>\n",
       "      <td>98.0</td>\n",
       "    </tr>\n",
       "    <tr>\n",
       "      <th>Precision</th>\n",
       "      <td>99.0</td>\n",
       "    </tr>\n",
       "    <tr>\n",
       "      <th>F1_Score</th>\n",
       "      <td>99.5</td>\n",
       "    </tr>\n",
       "  </tbody>\n",
       "</table>\n",
       "</div>"
      ],
      "text/plain": [
       "                     Perc\n",
       "Accuracy             99.3\n",
       "True Positive Rate  100.0\n",
       "True Negative Rate   98.0\n",
       "Precision            99.0\n",
       "F1_Score             99.5"
      ]
     },
     "execution_count": 13,
     "metadata": {},
     "output_type": "execute_result"
    }
   ],
   "source": [
    "model.classification_report(X,Y)"
   ]
  },
  {
   "cell_type": "code",
   "execution_count": 14,
   "metadata": {},
   "outputs": [
    {
     "data": {
      "image/png": "[encoded data removed]",
      "text/plain": [
       "<Figure size 432x288 with 1 Axes>"
      ]
     },
     "metadata": {
      "needs_background": "light"
     },
     "output_type": "display_data"
    }
   ],
   "source": [
    "model.plot_decision_boundary(X,Y)"
   ]
  },
  {
   "cell_type": "code",
   "execution_count": 15,
   "metadata": {},
   "outputs": [
    {
     "name": "stdout",
     "output_type": "stream",
     "text": [
      "svm.SVC Accuracy:  99.3 %\n"
     ]
    }
   ],
   "source": [
    "clf = SVC(kernel='linear', C=1.0,gamma='auto')\n",
    "clf.fit(X, Y)\n",
    "pp = clf.predict(X)\n",
    "print('svm.SVC Accuracy: ',round((pp==Y).mean(),3)*100,'%') "
   ]
  },
  {
   "cell_type": "markdown",
   "metadata": {},
   "source": [
    "<b> NOTES :</b>\n",
    "<br>1) Our results are same as SVC module results.\n",
    "<br>2) We only used one kernel. In general, Radial basis function is most widely used in SVC.\n",
    "<br>3) Kernel tricks and soft margins are very interesting. Though i didnt implement it in my code. (Will do some other time).\n",
    "<br>4) Scaling the input data, might help in performance improvement."
   ]
  },
  {
   "cell_type": "code",
   "execution_count": null,
   "metadata": {},
   "outputs": [],
   "source": []
  },
  {
   "cell_type": "code",
   "execution_count": null,
   "metadata": {},
   "outputs": [],
   "source": []
  }
 ],
 "metadata": {
  "kernelspec": {
   "display_name": "Python 3",
   "language": "python",
   "name": "python3"
  },
  "language_info": {
   "codemirror_mode": {
    "name": "ipython",
    "version": 3
   },
   "file_extension": ".py",
   "mimetype": "text/x-python",
   "name": "python",
   "nbconvert_exporter": "python",
   "pygments_lexer": "ipython3",
   "version": "3.7.3"
  }
 },
 "nbformat": 4,
 "nbformat_minor": 2
}
