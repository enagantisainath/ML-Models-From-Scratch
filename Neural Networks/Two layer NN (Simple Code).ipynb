{
 "cells": [
  {
   "cell_type": "code",
   "execution_count": 4,
   "metadata": {},
   "outputs": [],
   "source": [
    "import numpy as np\n",
    "import matplotlib.pyplot as plt\n",
    "import seaborn as sns\n",
    "import pandas as pd\n",
    "\n",
    "from sklearn.datasets import load_iris # dataset-eg-3"
   ]
  },
  {
   "cell_type": "markdown",
   "metadata": {},
   "source": [
    "# Two Layer Neural Network"
   ]
  },
  {
   "cell_type": "code",
   "execution_count": 5,
   "metadata": {},
   "outputs": [],
   "source": [
    "class Neural_Network:\n",
    "    \n",
    "    def __init__(self,learning_rate=0.01,num_iters=1000,verbose=True,layer_dims =[2,3,1]):\n",
    "        self.learning_rate = learning_rate\n",
    "        self.num_iters = num_iters\n",
    "        self.layer_dims = layer_dims\n",
    "        self.verbose = verbose\n",
    "        self.weights = []\n",
    "        \n",
    "    def sigmoid(self,z,deriv=False):\n",
    "        a = 1/(1+np.exp(-z))\n",
    "        if deriv:\n",
    "            return a*(1-a)\n",
    "        return a\n",
    "    \n",
    "    def relu(self,z,deriv=False):\n",
    "        if deriv:\n",
    "            z[z<=0] = 0\n",
    "            z[z>0] = 1\n",
    "            return z\n",
    "        return np.maximum(0,z)\n",
    "    \n",
    "    def loss(self,y,p):\n",
    "        return np.sum(-y*np.log(p)-(1-y)*np.log(1-p))  # Optional - Include (1/y.shape[1]) \n",
    "        \n",
    "    def fit(self,X,Y):\n",
    "        \n",
    "        W1 = np.random.randn(self.layer_dims[1],self.layer_dims[0])/np.sqrt(self.layer_dims[0]) # Vanishing/Exploding Gradients :) \n",
    "        W2 = np.random.randn(self.layer_dims[2],self.layer_dims[1])/np.sqrt(self.layer_dims[1]) \n",
    "        b1 = np.random.randn(self.layer_dims[1],self.layer_dims[2]) \n",
    "        b2 = np.random.randn(self.layer_dims[2],self.layer_dims[2]) \n",
    "\n",
    "        for i in range(self.num_iters):\n",
    "\n",
    "            # Forward Propogation\n",
    "            Z1 = np.dot(W1,X)+b1  \n",
    "            A1 = self.sigmoid(Z1)      \n",
    "            Z2 = np.dot(W2,A1)+b2    \n",
    "            A2 = self.sigmoid(Z2)       \n",
    "\n",
    "            if self.verbose and i%(self.num_iters//10)==0:\n",
    "                print('Cost at',i,'iteration:',self.loss(Y,A2))\n",
    "\n",
    "            # Backward Propogation\n",
    "            dA2 = -np.divide(Y,A2) + np.divide(1-Y,1-A2)\n",
    "            dZ2 = dA2*self.sigmoid(Z2,deriv=True)    \n",
    "            dW2 = (1/A1.shape[1])*np.dot(dZ2,A1.T)    \n",
    "            db2 = (1/A1.shape[1])*np.dot(dZ2,np.ones((dZ2.shape[1],1)))\n",
    "\n",
    "            dA1 = np.dot(W2.T,dZ2)\n",
    "            dZ1 = dA1*self.sigmoid(Z1,deriv=True)   \n",
    "            dW1 = (1/X.shape[1])*np.dot(dZ1,X.T)\n",
    "            db1 = (1/X.shape[1])*np.dot(dZ1,np.ones((dZ1.shape[1],1)))\n",
    "            \n",
    "            # Updating Weights\n",
    "            W1= W1 - self.learning_rate*dW1\n",
    "            b1= b1 - self.learning_rate*db1\n",
    "            W2= W2 - self.learning_rate*dW2\n",
    "            b2= b2 - self.learning_rate*db2\n",
    "\n",
    "        self.weights = [W1,b1,W2,b2]\n",
    "\n",
    "        \n",
    "    def predict(self,X,keep_probs=False,threshold=0.5):\n",
    "        [W1,b1,W2,b2] = self.weights\n",
    "        \n",
    "        Z1 = np.dot(W1,X)+b1  \n",
    "        A1 = self.sigmoid(Z1)      \n",
    "        Z2 = np.dot(W2,A1)+b2    \n",
    "        A2 = self.sigmoid(Z2)   \n",
    "        \n",
    "        if not keep_probs:\n",
    "            return np.array([1 if v>threshold else 0 for v in A2.T]).reshape(1,-1)\n",
    "        else:\n",
    "            return A2\n",
    "        \n",
    "    def classification_report(self,X,y):\n",
    "        p = self.predict(X) \n",
    "        cm_df = pd.crosstab(p.reshape(y.shape[1],),y.reshape(y.shape[1],),rownames=['Predicted'],colnames=['Actual'])\n",
    "        if list(cm_df.index)==[1]:\n",
    "            cm_df.loc[0,:] = [0,0]\n",
    "        elif list(cm_df.index)==[0]:\n",
    "            cm_df.loc[1,:] = [0,0]\n",
    "        \n",
    "        cm_df = cm_df.sort_index()\n",
    "        print('\\nConfusion Matrix:\\n',cm_df)\n",
    "        TN = cm_df.loc[0,0] # Predicted = 0 and  Actual = 0\n",
    "        TP = cm_df.loc[1,1] # Predicted = 1 and  Actual = 1\n",
    "        FN = cm_df.loc[0,1] # Predicted  = 0 But Actual = 1\n",
    "        FP = cm_df.loc[1,0] # Predicted  = 1 But Actual = 0\n",
    "\n",
    "        acc = (TP+TN)/(TP+TN+FP+FN)\n",
    "        tpr = recall = TP/(TP+FN) # Recall / Sensitivity / True Positive Rate\n",
    "        tnr = TN/(TN+FP) # Specificity / True Negative Rate\n",
    "        precision = TP/(TP+FP) # Precision\n",
    "        f1_score = 2*precision*recall/(precision+recall) # F1-Score\n",
    "\n",
    "        return pd.DataFrame({\n",
    "        'Accuracy':acc.round(3)*100,\n",
    "        'True Positive Rate':recall.round(3)*100,\n",
    "        'True Negative Rate':tnr.round(3)*100,\n",
    "        'Precision':precision.round(3)*100,\n",
    "        'F1_Score':f1_score.round(3)*100},index=['Perc']).T\n",
    "        \n",
    "        "
   ]
  },
  {
   "cell_type": "code",
   "execution_count": 6,
   "metadata": {},
   "outputs": [
    {
     "data": {
      "image/png": "[encoded data removed]",
      "text/plain": [
       "<Figure size 432x288 with 1 Axes>"
      ]
     },
     "metadata": {
      "needs_background": "light"
     },
     "output_type": "display_data"
    }
   ],
   "source": [
    "# Input - 1\n",
    "\n",
    "X = np.array([[1, 5],[ 2,  8],[ 3,  7],[ 2.4,  5],\n",
    "       [ 5.4,  1.4],[ 6.2,  3.4],[ 3.5,  1],\n",
    "       [ 6, -1],\n",
    "       [ 7,  3]])\n",
    "\n",
    "Y = np.array([0,0,0,0,1,1,1,1,1])\n",
    "\n",
    "sns.scatterplot(X[:,0],X[:,1],hue=Y)\n",
    "\n",
    "X = X.T\n",
    "Y = Y.reshape(1,-1)"
   ]
  },
  {
   "cell_type": "code",
   "execution_count": 7,
   "metadata": {},
   "outputs": [
    {
     "name": "stdout",
     "output_type": "stream",
     "text": [
      "\n",
      "Confusion Matrix:\n",
      " Actual     0  1\n",
      "Predicted      \n",
      "0          4  0\n",
      "1          0  5\n"
     ]
    },
    {
     "data": {
      "text/html": [
       "<div>\n",
       "<style scoped>\n",
       "    .dataframe tbody tr th:only-of-type {\n",
       "        vertical-align: middle;\n",
       "    }\n",
       "\n",
       "    .dataframe tbody tr th {\n",
       "        vertical-align: top;\n",
       "    }\n",
       "\n",
       "    .dataframe thead th {\n",
       "        text-align: right;\n",
       "    }\n",
       "</style>\n",
       "<table border=\"1\" class=\"dataframe\">\n",
       "  <thead>\n",
       "    <tr style=\"text-align: right;\">\n",
       "      <th></th>\n",
       "      <th>Perc</th>\n",
       "    </tr>\n",
       "  </thead>\n",
       "  <tbody>\n",
       "    <tr>\n",
       "      <th>Accuracy</th>\n",
       "      <td>100.0</td>\n",
       "    </tr>\n",
       "    <tr>\n",
       "      <th>True Positive Rate</th>\n",
       "      <td>100.0</td>\n",
       "    </tr>\n",
       "    <tr>\n",
       "      <th>True Negative Rate</th>\n",
       "      <td>100.0</td>\n",
       "    </tr>\n",
       "    <tr>\n",
       "      <th>Precision</th>\n",
       "      <td>100.0</td>\n",
       "    </tr>\n",
       "    <tr>\n",
       "      <th>F1_Score</th>\n",
       "      <td>100.0</td>\n",
       "    </tr>\n",
       "  </tbody>\n",
       "</table>\n",
       "</div>"
      ],
      "text/plain": [
       "                     Perc\n",
       "Accuracy            100.0\n",
       "True Positive Rate  100.0\n",
       "True Negative Rate  100.0\n",
       "Precision           100.0\n",
       "F1_Score            100.0"
      ]
     },
     "execution_count": 7,
     "metadata": {},
     "output_type": "execute_result"
    }
   ],
   "source": [
    "model  = Neural_Network(verbose=False)\n",
    "model.fit(X,Y)\n",
    "pred = model.predict(X)\n",
    "model.classification_report(X,Y)"
   ]
  },
  {
   "cell_type": "code",
   "execution_count": 8,
   "metadata": {},
   "outputs": [
    {
     "data": {
      "image/png": "[encoded data removed]",
      "text/plain": [
       "<Figure size 432x288 with 1 Axes>"
      ]
     },
     "metadata": {
      "needs_background": "light"
     },
     "output_type": "display_data"
    }
   ],
   "source": [
    "# Input - 2\n",
    "X = np.array(\n",
    "    [\n",
    "    [-1,2],[0,2],[-2,4],[4,1],\n",
    "    [1, 6],[4,5],[5,3],[2, 4],[6, 2]\n",
    "    ])\n",
    "Y = np.array([0,0,0,0,1,1,1,1,1])\n",
    "\n",
    "sns.scatterplot(X[:,0],X[:,1],hue=Y)\n",
    "\n",
    "X = X.T\n",
    "Y = Y.reshape(1,-1)"
   ]
  },
  {
   "cell_type": "code",
   "execution_count": 12,
   "metadata": {},
   "outputs": [
    {
     "name": "stdout",
     "output_type": "stream",
     "text": [
      "Cost at 0 iteration: 9.258147931463892\n",
      "Cost at 130 iteration: 4.211305248961987\n",
      "Cost at 260 iteration: 3.522888518323206\n",
      "Cost at 390 iteration: 3.05873836514476\n",
      "Cost at 520 iteration: 2.6718555462999163\n",
      "Cost at 650 iteration: 2.3351219249751867\n",
      "Cost at 780 iteration: 2.038484082346695\n",
      "Cost at 910 iteration: 1.777725612512895\n",
      "Cost at 1040 iteration: 1.5503858577208276\n",
      "Cost at 1170 iteration: 1.3541031825572203\n",
      "\n",
      "Confusion Matrix:\n",
      " Actual     0  1\n",
      "Predicted      \n",
      "0          4  0\n",
      "1          0  5\n"
     ]
    },
    {
     "data": {
      "text/html": [
       "<div>\n",
       "<style scoped>\n",
       "    .dataframe tbody tr th:only-of-type {\n",
       "        vertical-align: middle;\n",
       "    }\n",
       "\n",
       "    .dataframe tbody tr th {\n",
       "        vertical-align: top;\n",
       "    }\n",
       "\n",
       "    .dataframe thead th {\n",
       "        text-align: right;\n",
       "    }\n",
       "</style>\n",
       "<table border=\"1\" class=\"dataframe\">\n",
       "  <thead>\n",
       "    <tr style=\"text-align: right;\">\n",
       "      <th></th>\n",
       "      <th>Perc</th>\n",
       "    </tr>\n",
       "  </thead>\n",
       "  <tbody>\n",
       "    <tr>\n",
       "      <th>Accuracy</th>\n",
       "      <td>100.0</td>\n",
       "    </tr>\n",
       "    <tr>\n",
       "      <th>True Positive Rate</th>\n",
       "      <td>100.0</td>\n",
       "    </tr>\n",
       "    <tr>\n",
       "      <th>True Negative Rate</th>\n",
       "      <td>100.0</td>\n",
       "    </tr>\n",
       "    <tr>\n",
       "      <th>Precision</th>\n",
       "      <td>100.0</td>\n",
       "    </tr>\n",
       "    <tr>\n",
       "      <th>F1_Score</th>\n",
       "      <td>100.0</td>\n",
       "    </tr>\n",
       "  </tbody>\n",
       "</table>\n",
       "</div>"
      ],
      "text/plain": [
       "                     Perc\n",
       "Accuracy            100.0\n",
       "True Positive Rate  100.0\n",
       "True Negative Rate  100.0\n",
       "Precision           100.0\n",
       "F1_Score            100.0"
      ]
     },
     "execution_count": 12,
     "metadata": {},
     "output_type": "execute_result"
    }
   ],
   "source": [
    "model  = Neural_Network(verbose=True,learning_rate=0.1,num_iters=1300)\n",
    "model.fit(X,Y)\n",
    "pred = model.predict(X)\n",
    "model.classification_report(X,Y)"
   ]
  },
  {
   "cell_type": "code",
   "execution_count": 13,
   "metadata": {},
   "outputs": [],
   "source": [
    "# Input - 3\n",
    "iris = load_iris()\n",
    "X = iris.data[:,:2]\n",
    "Y = (iris.target!=0)*1\n",
    "\n",
    "X = X.T\n",
    "Y = Y.reshape(1,-1)"
   ]
  },
  {
   "cell_type": "code",
   "execution_count": 14,
   "metadata": {},
   "outputs": [
    {
     "name": "stdout",
     "output_type": "stream",
     "text": [
      "\n",
      "Confusion Matrix:\n",
      " Actual      0    1\n",
      "Predicted         \n",
      "0          49    0\n",
      "1           1  100\n"
     ]
    },
    {
     "data": {
      "text/html": [
       "<div>\n",
       "<style scoped>\n",
       "    .dataframe tbody tr th:only-of-type {\n",
       "        vertical-align: middle;\n",
       "    }\n",
       "\n",
       "    .dataframe tbody tr th {\n",
       "        vertical-align: top;\n",
       "    }\n",
       "\n",
       "    .dataframe thead th {\n",
       "        text-align: right;\n",
       "    }\n",
       "</style>\n",
       "<table border=\"1\" class=\"dataframe\">\n",
       "  <thead>\n",
       "    <tr style=\"text-align: right;\">\n",
       "      <th></th>\n",
       "      <th>Perc</th>\n",
       "    </tr>\n",
       "  </thead>\n",
       "  <tbody>\n",
       "    <tr>\n",
       "      <th>Accuracy</th>\n",
       "      <td>99.3</td>\n",
       "    </tr>\n",
       "    <tr>\n",
       "      <th>True Positive Rate</th>\n",
       "      <td>100.0</td>\n",
       "    </tr>\n",
       "    <tr>\n",
       "      <th>True Negative Rate</th>\n",
       "      <td>98.0</td>\n",
       "    </tr>\n",
       "    <tr>\n",
       "      <th>Precision</th>\n",
       "      <td>99.0</td>\n",
       "    </tr>\n",
       "    <tr>\n",
       "      <th>F1_Score</th>\n",
       "      <td>99.5</td>\n",
       "    </tr>\n",
       "  </tbody>\n",
       "</table>\n",
       "</div>"
      ],
      "text/plain": [
       "                     Perc\n",
       "Accuracy             99.3\n",
       "True Positive Rate  100.0\n",
       "True Negative Rate   98.0\n",
       "Precision            99.0\n",
       "F1_Score             99.5"
      ]
     },
     "execution_count": 14,
     "metadata": {},
     "output_type": "execute_result"
    }
   ],
   "source": [
    "model  = Neural_Network(verbose=False,layer_dims=[X.shape[0],4,1],learning_rate=0.01,num_iters=10000)\n",
    "model.fit(X,Y)\n",
    "model.classification_report(X,Y)"
   ]
  },
  {
   "cell_type": "markdown",
   "metadata": {},
   "source": [
    "# Notes"
   ]
  },
  {
   "cell_type": "markdown",
   "metadata": {},
   "source": [
    "1. I have tried to make code as simpler as possible.<br>\n",
    "2. Implemented 2 layer Neural Network only.<br>\n",
    "3. I have used Sigmoid as Activation function, Relu can also be used. Learn other activation functions as well.\n",
    "4. Softmax function is not included."
   ]
  },
  {
   "cell_type": "code",
   "execution_count": null,
   "metadata": {},
   "outputs": [],
   "source": []
  },
  {
   "cell_type": "code",
   "execution_count": null,
   "metadata": {},
   "outputs": [],
   "source": []
  }
 ],
 "metadata": {
  "kernelspec": {
   "display_name": "Python 3",
   "language": "python",
   "name": "python3"
  },
  "language_info": {
   "codemirror_mode": {
    "name": "ipython",
    "version": 3
   },
   "file_extension": ".py",
   "mimetype": "text/x-python",
   "name": "python",
   "nbconvert_exporter": "python",
   "pygments_lexer": "ipython3",
   "version": "3.7.3"
  }
 },
 "nbformat": 4,
 "nbformat_minor": 2
}
